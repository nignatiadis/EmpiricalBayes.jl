{
 "cells": [
  {
   "cell_type": "code",
   "execution_count": 1,
   "metadata": {},
   "outputs": [],
   "source": [
    "using DataFrames\n",
    "\n",
    "using Plots\n",
    "using JLD\n",
    "\n",
    "using Distributions\n",
    "using StatsBase\n",
    "using Iterators\n",
    "using EmpiricalBayes\n",
    "using StatPlots\n",
    "\n",
    "using LaTeXStrings"
   ]
  },
  {
   "cell_type": "code",
   "execution_count": 34,
   "metadata": {},
   "outputs": [
    {
     "data": {
      "text/plain": [
       "4-element Array{String,1}:\n",
       " \"CEB\"     \n",
       " \"CEBSCOOP\"\n",
       " \"G0\"      \n",
       " \"G\"       "
      ]
     },
     "execution_count": 34,
     "metadata": {},
     "output_type": "execute_result"
    }
   ],
   "source": [
    "settings = 104\n",
    "k_max=12\n",
    "nreps = 20\n",
    "nreps_total = k_max*nreps\n",
    "nmethods=4\n",
    "methods = [\"CEB\"; \"CEBSCOOP\"; \"G0\"; \"G\"]"
   ]
  },
  {
   "cell_type": "code",
   "execution_count": 8,
   "metadata": {},
   "outputs": [],
   "source": [
    "true_dists = [MixtureModel([ Normal(-0.3,.2), Normal(0,0.9)],[0.8, 0.2]), EmpiricalBayes.ash_flattop ];"
   ]
  },
  {
   "cell_type": "code",
   "execution_count": 19,
   "metadata": {},
   "outputs": [],
   "source": [
    "Base.getindex(t::EmpiricalBayes.BradDeconvolveR, ::Int64) = t\n",
    "maxbias(t::EmpiricalBayes.BradDeconvolveR) = 0.0;\n",
    "maxbias(t::DonohoCI) = t.max_bias;"
   ]
  },
  {
   "cell_type": "code",
   "execution_count": 5,
   "metadata": {},
   "outputs": [],
   "source": [
    "marginal_grid = collect(linspace(-6.5,6.5,1001));\n",
    "prior_grid = collect(linspace(-3,3,121));\n",
    "marginal_h = marginal_grid[2]-marginal_grid[1];"
   ]
  },
  {
   "cell_type": "code",
   "execution_count": 26,
   "metadata": {},
   "outputs": [
    {
     "data": {
      "text/plain": [
       "EmpiricalBayes.NormalConvolutionProblem(MixtureModel{Distributions.Normal{Float64}}(K = 7)\n",
       "components[1] (prior = 0.1429): Distributions.Normal{Float64}(μ=-1.5, σ=0.5)\n",
       "components[2] (prior = 0.1429): Distributions.Normal{Float64}(μ=-1.0, σ=0.5)\n",
       "components[3] (prior = 0.1429): Distributions.Normal{Float64}(μ=-0.5, σ=0.5)\n",
       "components[4] (prior = 0.1429): Distributions.Normal{Float64}(μ=0.0, σ=0.5)\n",
       "components[5] (prior = 0.1429): Distributions.Normal{Float64}(μ=0.5, σ=0.5)\n",
       "components[6] (prior = 0.1429): Distributions.Normal{Float64}(μ=1.0, σ=0.5)\n",
       "components[7] (prior = 0.1429): Distributions.Normal{Float64}(μ=1.5, σ=0.5)\n",
       ", [3.41752e-8, 3.60217e-8, 3.7963e-8, 4.00037e-8, 4.21485e-8, 4.44025e-8, 4.67709e-8, 4.92592e-8, 5.18731e-8, 5.46185e-8  …  5.46185e-8, 5.18731e-8, 4.92592e-8, 4.67709e-8, 4.44025e-8, 4.21485e-8, 4.00037e-8, 3.7963e-8, 3.60217e-8, 3.41752e-8], [-6.5, -6.487, -6.474, -6.461, -6.448, -6.435, -6.422, -6.409, -6.396, -6.383  …  6.383, 6.396, 6.409, 6.422, 6.435, 6.448, 6.461, 6.474, 6.487, 6.5], 0.0129999999999999)"
      ]
     },
     "execution_count": 26,
     "metadata": {},
     "output_type": "execute_result"
    }
   ],
   "source": [
    "d_true1 = NormalConvolutionProblem(true_dists[1], marginal_grid)\n",
    "d_true2 = NormalConvolutionProblem(true_dists[2], marginal_grid)\n"
   ]
  },
  {
   "cell_type": "code",
   "execution_count": 35,
   "metadata": {},
   "outputs": [
    {
     "name": "stdout",
     "output_type": "stream",
     "text": [
      "comb = 1\n",
      "nmethod = 1\n",
      "nmethod = 2\n",
      "comb = 2\n",
      "nmethod = 1\n",
      "nmethod = 2\n",
      "comb = 3\n",
      "nmethod = 1\n",
      "nmethod = 2\n",
      "comb = 4\n",
      "nmethod = 1\n",
      "nmethod = 2\n",
      "comb = 5\n",
      "nmethod = 1\n",
      "nmethod = 2\n",
      "comb = 6\n",
      "nmethod = 1\n",
      "nmethod = 2\n",
      "comb = 7\n",
      "nmethod = 1\n",
      "nmethod = 2\n",
      "comb = 8\n",
      "nmethod = 1\n",
      "nmethod = 2\n",
      "comb = 9\n",
      "nmethod = 1\n",
      "nmethod = 2\n",
      "comb = 10\n",
      "nmethod = 1\n",
      "nmethod = 2\n",
      "comb = 11\n",
      "nmethod = 1\n",
      "nmethod = 2\n",
      "comb = 12\n",
      "nmethod = 1\n",
      "nmethod = 2\n",
      "comb = 13\n",
      "nmethod = 1\n",
      "nmethod = 2\n",
      "comb = 14\n",
      "nmethod = 1\n",
      "nmethod = 2\n",
      "comb = 15\n",
      "nmethod = 1\n",
      "nmethod = 2\n",
      "comb = 16\n",
      "nmethod = 1\n",
      "nmethod = 2\n",
      "comb = 17\n",
      "nmethod = 1\n",
      "nmethod = 2\n",
      "comb = 18\n",
      "nmethod = 1\n",
      "nmethod = 2\n",
      "comb = 19\n",
      "nmethod = 1\n",
      "nmethod = 2\n",
      "comb = 20\n",
      "nmethod = 1\n",
      "nmethod = 2\n",
      "comb = 21\n",
      "nmethod = 1\n",
      "nmethod = 2\n",
      "comb = 22\n",
      "nmethod = 1\n",
      "nmethod = 2\n",
      "comb = 23\n",
      "nmethod = 1\n",
      "nmethod = 2\n",
      "comb = 24\n",
      "nmethod = 1\n",
      "nmethod = 2\n",
      "comb = 25\n",
      "nmethod = 1\n",
      "nmethod = 2\n",
      "comb = 26\n",
      "nmethod = 1\n",
      "nmethod = 2\n",
      "comb = 27\n",
      "nmethod = 1\n"
     ]
    },
    {
     "ename": "LoadError",
     "evalue": "\u001b[91mFile May22/May22/mysim_27_1.jld cannot be found\u001b[39m",
     "output_type": "error",
     "traceback": [
      "\u001b[91mFile May22/May22/mysim_27_1.jld cannot be found\u001b[39m",
      "",
      "Stacktrace:",
      " [1] \u001b[1m#jldopen#9\u001b[22m\u001b[22m\u001b[1m(\u001b[22m\u001b[22m::Bool, ::Bool, ::Bool, ::Function, ::String, ::Bool, ::Bool, ::Bool, ::Bool, ::Bool\u001b[1m)\u001b[22m\u001b[22m at \u001b[1m/Applications/JuliaPro-0.6.2.2.app/Contents/Resources/pkgs-0.6.2.2/v0.6/JLD/src/JLD.jl:153\u001b[22m\u001b[22m",
      " [2] \u001b[1m(::JLD.#kw##jldopen)\u001b[22m\u001b[22m\u001b[1m(\u001b[22m\u001b[22m::Array{Any,1}, ::JLD.#jldopen, ::String, ::Bool, ::Bool, ::Bool, ::Bool, ::Bool\u001b[1m)\u001b[22m\u001b[22m at \u001b[1m./<missing>:0\u001b[22m\u001b[22m",
      " [3] \u001b[1m#jldopen#10\u001b[22m\u001b[22m\u001b[1m(\u001b[22m\u001b[22m::Bool, ::Bool, ::Bool, ::Function, ::String, ::String\u001b[1m)\u001b[22m\u001b[22m at \u001b[1m/Applications/JuliaPro-0.6.2.2.app/Contents/Resources/pkgs-0.6.2.2/v0.6/JLD/src/JLD.jl:231\u001b[22m\u001b[22m",
      " [4] \u001b[1mjldopen\u001b[22m\u001b[22m\u001b[1m(\u001b[22m\u001b[22m::String, ::String\u001b[1m)\u001b[22m\u001b[22m at \u001b[1m/Applications/JuliaPro-0.6.2.2.app/Contents/Resources/pkgs-0.6.2.2/v0.6/JLD/src/JLD.jl:231\u001b[22m\u001b[22m",
      " [5] \u001b[1m#jldopen#11\u001b[22m\u001b[22m\u001b[1m(\u001b[22m\u001b[22m::Array{Any,1}, ::Function, ::JLD.##37#39, ::String, ::Vararg{String,N} where N\u001b[1m)\u001b[22m\u001b[22m at \u001b[1m/Applications/JuliaPro-0.6.2.2.app/Contents/Resources/pkgs-0.6.2.2/v0.6/JLD/src/JLD.jl:241\u001b[22m\u001b[22m",
      " [6] \u001b[1mload\u001b[22m\u001b[22m\u001b[1m(\u001b[22m\u001b[22m::FileIO.File{FileIO.DataFormat{:JLD}}\u001b[1m)\u001b[22m\u001b[22m at \u001b[1m/Applications/JuliaPro-0.6.2.2.app/Contents/Resources/pkgs-0.6.2.2/v0.6/JLD/src/JLD.jl:1234\u001b[22m\u001b[22m",
      " [7] \u001b[1m#load#13\u001b[22m\u001b[22m\u001b[1m(\u001b[22m\u001b[22m::Array{Any,1}, ::Function, ::String\u001b[1m)\u001b[22m\u001b[22m at \u001b[1m/Applications/JuliaPro-0.6.2.2.app/Contents/Resources/pkgs-0.6.2.2/v0.6/FileIO/src/loadsave.jl:52\u001b[22m\u001b[22m",
      " [8] \u001b[1mmacro expansion\u001b[22m\u001b[22m at \u001b[1m./In[35]:42\u001b[22m\u001b[22m [inlined]",
      " [9] \u001b[1manonymous\u001b[22m\u001b[22m at \u001b[1m./<missing>:?\u001b[22m\u001b[22m"
     ]
    }
   ],
   "source": [
    "res_df = DataFrame(true_dist = Distribution[],\n",
    "    truetheta=Float64[], \n",
    "    x=Float64[], m=Int64[],\n",
    "    σ=Float64[], \n",
    "    bias=Float64[], \n",
    "    coverage=Float64[], \n",
    "    width=Float64[],\n",
    "    se=Float64[],\n",
    "    maxbias=Float64[],\n",
    "    lowerband=Float64[],\n",
    "    upperband=Float64[],\n",
    "    method = String[]\n",
    ")\n",
    "\n",
    "for comb=1:settings\n",
    "    @show comb\n",
    "    for nmethod=1:2\n",
    "    @show nmethod\n",
    "    cnt = one(Int)\n",
    "\n",
    "    point_est = Vector{Float64}(nreps_total)\n",
    "    bias_calib = Vector{Float64}(nreps_total)\n",
    "    coverage_calib = Vector{Bool}(nreps_total)\n",
    "    width_calib = Vector{Float64}(nreps_total)\n",
    "    maxbias_calib = Vector{Float64}(nreps_total)\n",
    "    se_calib = Vector{Float64}(nreps_total)\n",
    "\n",
    "    lower_band_vec = Vector{Float64}(nreps_total)\n",
    "    upper_band_vec = Vector{Float64}(nreps_total)\n",
    "\n",
    "    x=0.0\n",
    "    m=10\n",
    "    σ=1.0\n",
    "    true_θ = 0.0 \n",
    "    true_dist = Normal(0,1)\n",
    "    d_true = d_true1\n",
    "        \n",
    "    method_name = methods[nmethod]\n",
    "\n",
    "    for sim_batch=1:k_max\n",
    "    \n",
    "        sim = load(\"May22/May22/mysim_$(comb)_$(sim_batch).jld\")[\"res\"]\n",
    "    \n",
    "            \n",
    "        x = sim[2][:x]\n",
    "        m = sim[2][:m]\n",
    "        σ = sim[2][:σ]\n",
    "\n",
    "        true_dist = sim[2][:dist]\n",
    "            \n",
    "        if Symbol(true_dist) == Symbol(true_dists[1])\n",
    "            d_true = d_true1\n",
    "        else\n",
    "            d_true = d_true2\n",
    "        end\n",
    "            \n",
    "        sim = sim[3]\n",
    "\n",
    "        target = PosteriorTarget(LFSRNumerator(x))\n",
    "\n",
    "        true_num, true_denom, true_θ = posterior_stats(d_true, target)\n",
    "\n",
    "  \n",
    "        for k=1:nreps\n",
    "            donoho_res = sim[k][nmethod][1]\n",
    "            l,r = confint(donoho_res, target) \n",
    "            point_est[cnt] = estimate(donoho_res, target)\n",
    "            bias_calib[cnt] = estimate(donoho_res, target) - true_θ\n",
    "            coverage_calib[cnt] = r >= true_θ >= l\n",
    "            width_calib[cnt] = r-l\n",
    "            maxbias_calib[cnt] = maxbias(donoho_res)\n",
    "                \n",
    "            lower_band_vec[cnt] = l\n",
    "            upper_band_vec[cnt] = r\n",
    "            cnt +=1\n",
    "        end\n",
    "    end\n",
    "\n",
    "    bias_calib = mean(bias_calib)\n",
    "    coverage_calib = mean(coverage_calib)\n",
    "    width_calib = mean(width_calib)\n",
    "    se_res = std(point_est)\n",
    "    maxb = mean(maxbias_calib)\n",
    "    lower_band = mean(lower_band_vec)\n",
    "    upper_band = mean(upper_band_vec)\n",
    "        \n",
    "    push!(res_df, (true_dist, true_θ, x, m, σ, bias_calib, coverage_calib, width_calib, se_res, \n",
    "                 maxb, lower_band, upper_band, method_name))\n",
    "    end\n",
    "end\n",
    "\n",
    "#res_df[:σ] = string.(res_df[:σ]);\n",
    "head(res_df)"
   ]
  },
  {
   "cell_type": "code",
   "execution_count": 36,
   "metadata": {},
   "outputs": [],
   "source": [
    "save(\"res_df.jld\", \"res_df\", res_df)"
   ]
  }
 ],
 "metadata": {
  "kernelspec": {
   "display_name": "Julia 0.6.2",
   "language": "julia",
   "name": "julia-0.6"
  },
  "language_info": {
   "file_extension": ".jl",
   "mimetype": "application/julia",
   "name": "julia",
   "version": "0.6.2"
  }
 },
 "nbformat": 4,
 "nbformat_minor": 2
}
